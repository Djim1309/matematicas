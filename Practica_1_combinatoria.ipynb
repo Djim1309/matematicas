{
  "nbformat": 4,
  "nbformat_minor": 0,
  "metadata": {
    "colab": {
      "provenance": [],
      "collapsed_sections": [],
      "authorship_tag": "ABX9TyMougaRSMcmSYkLhxCSQYIn",
      "include_colab_link": true
    },
    "kernelspec": {
      "name": "python3",
      "display_name": "Python 3"
    },
    "language_info": {
      "name": "python"
    }
  },
  "cells": [
    {
      "cell_type": "markdown",
      "metadata": {
        "id": "view-in-github",
        "colab_type": "text"
      },
      "source": [
        "<a href=\"https://colab.research.google.com/github/Djim1309/matematicas/blob/combinatoria/Practica_1_combinatoria.ipynb\" target=\"_parent\"><img src=\"https://colab.research.google.com/assets/colab-badge.svg\" alt=\"Open In Colab\"/></a>"
      ]
    },
    {
      "cell_type": "markdown",
      "source": [
        "#Practica 1/combinatoria\n",
        "##1.1"
      ],
      "metadata": {
        "id": "gr829pl-npCe"
      }
    },
    {
      "cell_type": "code",
      "execution_count": 1,
      "metadata": {
        "id": "SqPkw4IynESv",
        "colab": {
          "base_uri": "https://localhost:8080/"
        },
        "outputId": "58a63a1f-1368-4550-e223-0ecaf28c8eac"
      },
      "outputs": [
        {
          "output_type": "stream",
          "name": "stdout",
          "text": [
            "A B C D\n",
            "A B D C\n",
            "A C B D\n",
            "A C D B\n",
            "A D B C\n",
            "A D C B\n",
            "B A C D\n",
            "B A D C\n",
            "B C A D\n",
            "B C D A\n",
            "B D A C\n",
            "B D C A\n",
            "C A B D\n",
            "C A D B\n",
            "C B A D\n",
            "C B D A\n",
            "C D A B\n",
            "C D B A\n",
            "D A B C\n",
            "D A C B\n",
            "D B A C\n",
            "D B C A\n",
            "D C A B\n",
            "D C B A\n"
          ]
        }
      ],
      "source": [
        "from itertools import permutations\n",
        "\n",
        "perm = permutations(['A','B','C','D'])   \n",
        "\n",
        "for i in list(perm):                     \n",
        "    print (*i)                          "
      ]
    },
    {
      "cell_type": "markdown",
      "source": [
        "##1.2"
      ],
      "metadata": {
        "id": "WwSatfr__gb5"
      }
    },
    {
      "cell_type": "code",
      "source": [
        "lista = ['A', 'B', 'C', 'D'] \n",
        "contador = 1\n",
        "enumerate(lista)\n",
        "for i in lista:\n",
        "    for j in lista:\n",
        "        for k in lista:\n",
        "            for l in lista:\n",
        "                if i != j and i != k and i != l and j != k and j != l and k != l:\n",
        "                    print(f\"{contador:2d} →  {i+j+k+l}\")\n",
        "                    contador += 1"
      ],
      "metadata": {
        "id": "9tleuFwN_nNj",
        "colab": {
          "base_uri": "https://localhost:8080/"
        },
        "outputId": "51e69d06-038e-49cc-85a7-795015273447"
      },
      "execution_count": 2,
      "outputs": [
        {
          "output_type": "stream",
          "name": "stdout",
          "text": [
            " 1 →  ABCD\n",
            " 2 →  ABDC\n",
            " 3 →  ACBD\n",
            " 4 →  ACDB\n",
            " 5 →  ADBC\n",
            " 6 →  ADCB\n",
            " 7 →  BACD\n",
            " 8 →  BADC\n",
            " 9 →  BCAD\n",
            "10 →  BCDA\n",
            "11 →  BDAC\n",
            "12 →  BDCA\n",
            "13 →  CABD\n",
            "14 →  CADB\n",
            "15 →  CBAD\n",
            "16 →  CBDA\n",
            "17 →  CDAB\n",
            "18 →  CDBA\n",
            "19 →  DABC\n",
            "20 →  DACB\n",
            "21 →  DBAC\n",
            "22 →  DBCA\n",
            "23 →  DCAB\n",
            "24 →  DCBA\n"
          ]
        }
      ]
    },
    {
      "cell_type": "markdown",
      "source": [
        "##1.3"
      ],
      "metadata": {
        "id": "1JLT0jPa_5p2"
      }
    },
    {
      "cell_type": "code",
      "source": [
        "lista = [\"W\",\"X\",\"Y\",\"Z\"]\n",
        " \n",
        "for i in lista:\n",
        "    for j in lista:\n",
        "        for k in lista:\n",
        "            for l in lista:\n",
        "                if i != j and i != k and i != l and j != k and j != l and k != l:\n",
        "                  print (f\" {i+j+k+l} \")\n"
      ],
      "metadata": {
        "id": "-3L4iXHk_9dQ",
        "colab": {
          "base_uri": "https://localhost:8080/"
        },
        "outputId": "4b70bac3-f979-426e-88b8-63f40d144d6d"
      },
      "execution_count": 3,
      "outputs": [
        {
          "output_type": "stream",
          "name": "stdout",
          "text": [
            " WXYZ \n",
            " WXZY \n",
            " WYXZ \n",
            " WYZX \n",
            " WZXY \n",
            " WZYX \n",
            " XWYZ \n",
            " XWZY \n",
            " XYWZ \n",
            " XYZW \n",
            " XZWY \n",
            " XZYW \n",
            " YWXZ \n",
            " YWZX \n",
            " YXWZ \n",
            " YXZW \n",
            " YZWX \n",
            " YZXW \n",
            " ZWXY \n",
            " ZWYX \n",
            " ZXWY \n",
            " ZXYW \n",
            " ZYWX \n",
            " ZYXW \n"
          ]
        }
      ]
    },
    {
      "cell_type": "markdown",
      "source": [
        "##1.4"
      ],
      "metadata": {
        "id": "qGiBTSd2AcxI"
      }
    },
    {
      "cell_type": "code",
      "source": [
        "lista=[\"W\",\"X\",\"Y\",\"Z\"]\n",
        " \n",
        "for i in lista:\n",
        "    for j in lista:\n",
        "      for k in lista:\n",
        "        for l in lista:\n",
        "          print (i,j,k,l)"
      ],
      "metadata": {
        "id": "-4BHpZ8HAgb-"
      },
      "execution_count": null,
      "outputs": []
    },
    {
      "cell_type": "markdown",
      "source": [
        "##1.5"
      ],
      "metadata": {
        "id": "-W8C3_vUCRAu"
      }
    },
    {
      "cell_type": "code",
      "source": [
        "import itertools\n",
        "str_list = [\"W\", \"X\", \"Y\", \"Z\"]\n",
        "permutations = list(itertools.permutations(str_list))\n",
        "print(permutations)"
      ],
      "metadata": {
        "id": "RUrH8ABVCTVC"
      },
      "execution_count": null,
      "outputs": []
    },
    {
      "cell_type": "markdown",
      "source": [
        "##1.6"
      ],
      "metadata": {
        "id": "acQwuXzlCnXR"
      }
    },
    {
      "cell_type": "code",
      "source": [
        "lista = [\"W\", \"X\", \"Y\", \"Z\"]\n",
        "\n",
        "for i in lista:\n",
        "    for j in lista:\n",
        "        for k in lista:\n",
        "            for l in lista:\n",
        "                    print(i + j + k + l)"
      ],
      "metadata": {
        "id": "i37N6WxmCmjD"
      },
      "execution_count": null,
      "outputs": []
    },
    {
      "cell_type": "markdown",
      "source": [
        "##1.7"
      ],
      "metadata": {
        "id": "Vq6n2kJNDGRB"
      }
    },
    {
      "cell_type": "code",
      "source": [
        "from itertools import combinations\n",
        "c = combinations('WXYZABC',4)\n",
        "\n",
        "for i in c:\n",
        "    print(\"\".join(i), end=\", \")"
      ],
      "metadata": {
        "id": "8KCWbA6PDJB3"
      },
      "execution_count": null,
      "outputs": []
    },
    {
      "cell_type": "markdown",
      "source": [
        "##1.8"
      ],
      "metadata": {
        "id": "UGRKkQ8NDMNE"
      }
    },
    {
      "cell_type": "code",
      "source": [
        "from itertools import combinations\n",
        "from math import factorial\n",
        "\n",
        "WXTZABC = 'WXTZABC'\n",
        "m = len(WXTZABC)\n",
        "n = 5\n",
        "c = combinations(WXTZABC, n)\n",
        "\n",
        "for i in c:\n",
        "    print(*i)\n",
        "\n",
        "print(f\"Las Combinaciones de {m} elementos tomados de {n} en {n} son: {int(factorial(m)/factorial(n)/factorial(m-n))}\")"
      ],
      "metadata": {
        "colab": {
          "base_uri": "https://localhost:8080/"
        },
        "id": "ORPl4u35EqF9",
        "outputId": "da25338e-4dd5-4cf5-f7d0-4be44216b007"
      },
      "execution_count": null,
      "outputs": [
        {
          "output_type": "stream",
          "name": "stdout",
          "text": [
            "W X T Z A\n",
            "W X T Z B\n",
            "W X T Z C\n",
            "W X T A B\n",
            "W X T A C\n",
            "W X T B C\n",
            "W X Z A B\n",
            "W X Z A C\n",
            "W X Z B C\n",
            "W X A B C\n",
            "W T Z A B\n",
            "W T Z A C\n",
            "W T Z B C\n",
            "W T A B C\n",
            "W Z A B C\n",
            "X T Z A B\n",
            "X T Z A C\n",
            "X T Z B C\n",
            "X T A B C\n",
            "X Z A B C\n",
            "T Z A B C\n",
            "Las Combinaciones de 7 elementos tomados de 5 en 5 son: 21\n"
          ]
        }
      ]
    },
    {
      "cell_type": "markdown",
      "source": [
        "##1.9"
      ],
      "metadata": {
        "id": "nhXT4iZXDMep"
      }
    },
    {
      "cell_type": "code",
      "source": [
        "from itertools import permutations\n",
        "\n",
        "p = list(permutations('ABC'))   \n",
        "\n",
        "\n",
        "\n",
        "texto = ''   \n",
        "\n",
        "for v in lp:\n",
        "\n",
        "    texto += 'PD' + ''.join(v) + ','   \n",
        "\n",
        "for v in lp:\n",
        "\n",
        "    texto += 'DP' + ''.join(v) + ','   \n",
        "\n",
        "\n",
        "\n",
        "print(texto[:-1])   \n"
      ],
      "metadata": {
        "colab": {
          "base_uri": "https://localhost:8080/",
          "height": 235
        },
        "id": "Y3vjQmpZGboA",
        "outputId": "91cac4ed-7c98-426c-f0d6-3987cae7ec0d"
      },
      "execution_count": null,
      "outputs": [
        {
          "output_type": "error",
          "ename": "NameError",
          "evalue": "ignored",
          "traceback": [
            "\u001b[0;31m---------------------------------------------------------------------------\u001b[0m",
            "\u001b[0;31mNameError\u001b[0m                                 Traceback (most recent call last)",
            "\u001b[0;32m<ipython-input-47-1d0c600b1c99>\u001b[0m in \u001b[0;36m<module>\u001b[0;34m\u001b[0m\n\u001b[1;32m      7\u001b[0m \u001b[0mtexto\u001b[0m \u001b[0;34m=\u001b[0m \u001b[0;34m''\u001b[0m   \u001b[0;31m# inicializamos una variable texto que es un string vacío que luego iremos concatenando\u001b[0m\u001b[0;34m\u001b[0m\u001b[0;34m\u001b[0m\u001b[0m\n\u001b[1;32m      8\u001b[0m \u001b[0;34m\u001b[0m\u001b[0m\n\u001b[0;32m----> 9\u001b[0;31m \u001b[0;32mfor\u001b[0m \u001b[0mv\u001b[0m \u001b[0;32min\u001b[0m \u001b[0mlp\u001b[0m\u001b[0;34m:\u001b[0m\u001b[0;34m\u001b[0m\u001b[0;34m\u001b[0m\u001b[0m\n\u001b[0m\u001b[1;32m     10\u001b[0m \u001b[0;34m\u001b[0m\u001b[0m\n\u001b[1;32m     11\u001b[0m     \u001b[0mtexto\u001b[0m \u001b[0;34m+=\u001b[0m \u001b[0;34m'PD'\u001b[0m \u001b[0;34m+\u001b[0m \u001b[0;34m''\u001b[0m\u001b[0;34m.\u001b[0m\u001b[0mjoin\u001b[0m\u001b[0;34m(\u001b[0m\u001b[0mv\u001b[0m\u001b[0;34m)\u001b[0m \u001b[0;34m+\u001b[0m \u001b[0;34m','\u001b[0m   \u001b[0;31m# El ministro de Defensa (D) se sienta a un lado del Presidente (P)\u001b[0m\u001b[0;34m\u001b[0m\u001b[0;34m\u001b[0m\u001b[0m\n",
            "\u001b[0;31mNameError\u001b[0m: name 'lp' is not defined"
          ]
        }
      ]
    },
    {
      "cell_type": "markdown",
      "source": [
        "##1.10 \n",
        "triángulo de Pascal que indica que si el primer elemento de una fila es un número primo, entonces todos los demás elementos de la fila serán divisibles por él."
      ],
      "metadata": {
        "id": "vL4L7CnaDT-_"
      }
    },
    {
      "cell_type": "code",
      "source": [
        "num = int(input(\"Enter the number of rows:\"))\n",
        "\n",
        "for n in range(num):\n",
        "    print(' '*(num-n), end='')\n",
        "\n",
        "    print(' '.join(map(str, str(11**n))))"
      ],
      "metadata": {
        "colab": {
          "base_uri": "https://localhost:8080/"
        },
        "id": "XsttUsrIDcMS",
        "outputId": "1845c584-f262-4032-f3f2-135f1bd7e8a8"
      },
      "execution_count": null,
      "outputs": [
        {
          "output_type": "stream",
          "name": "stdout",
          "text": [
            "Enter the number of rows:7\n",
            "       1\n",
            "      1 1\n",
            "     1 2 1\n",
            "    1 3 3 1\n",
            "   1 4 6 4 1\n",
            "  1 6 1 0 5 1\n",
            " 1 7 7 1 5 6 1\n"
          ]
        }
      ]
    }
  ]
}